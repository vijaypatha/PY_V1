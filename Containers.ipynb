{
 "cells": [
  {
   "cell_type": "markdown",
   "metadata": {},
   "source": [
    "# Lists or Candy Jar\n",
    "\n",
    "- Container that holds (Data Structure) data types. \n",
    "- List is similar to a Jar that has candy in it. Each candy is data type (string, number, float, boolean). List holds all these data types (candies togather) \n",
    "\n",
    "![Image of candy jar](https://cdn.displays2go.com/images/zoom/pjtk775_propped_preview.jpg)"
   ]
  },
  {
   "cell_type": "code",
   "execution_count": 1,
   "metadata": {},
   "outputs": [
    {
     "data": {
      "text/plain": [
       "['DOTS', 'Tootsie Roll', 'Suckers', 'Blue Tootsie', 'Hershey', 'M&Ms']"
      ]
     },
     "execution_count": 1,
     "metadata": {},
     "output_type": "execute_result"
    }
   ],
   "source": [
    "a = ['DOTS','Tootsie Roll','Suckers', 'Blue Tootsie', 'Hershey','M&Ms']\n",
    "\n",
    "a"
   ]
  },
  {
   "cell_type": "code",
   "execution_count": 2,
   "metadata": {},
   "outputs": [
    {
     "data": {
      "text/plain": [
       "list"
      ]
     },
     "execution_count": 2,
     "metadata": {},
     "output_type": "execute_result"
    }
   ],
   "source": [
    "type(a)"
   ]
  },
  {
   "cell_type": "markdown",
   "metadata": {},
   "source": [
    "### Logical Steps \n",
    "\n",
    "Having the candies in the jar is not very useful. We need to enjoy them! \n",
    "\n",
    "We enjoy them by using indexing and slicing them\n",
    "\n",
    "Indexing: returning candies using their location\n",
    "Slicing: I do not like Suckers. So i have to seprate my faviorte candies from the jar"
   ]
  },
  {
   "cell_type": "markdown",
   "metadata": {},
   "source": [
    "### Indexing \n",
    "- These are all the candies we have 'DOTS', 'Tootsie Roll', 'Suckers', 'Blue Tootsie'\n",
    "- [0:3] starts taking candies at index 0 and stop before index 3. \n",
    "- Indexing just returns the candies in a location \n",
    "\n",
    "https://docs.python.org/3/tutorial/introduction.html#lists"
   ]
  },
  {
   "cell_type": "code",
   "execution_count": 3,
   "metadata": {},
   "outputs": [
    {
     "data": {
      "text/plain": [
       "'DOTS'"
      ]
     },
     "execution_count": 3,
     "metadata": {},
     "output_type": "execute_result"
    }
   ],
   "source": [
    "# Lets get dots\n",
    "a[0]"
   ]
  },
  {
   "cell_type": "code",
   "execution_count": 4,
   "metadata": {},
   "outputs": [
    {
     "data": {
      "text/plain": [
       "['DOTS', 'Tootsie Roll', 'Suckers']"
      ]
     },
     "execution_count": 4,
     "metadata": {},
     "output_type": "execute_result"
    }
   ],
   "source": [
    "a[0:3]"
   ]
  },
  {
   "cell_type": "markdown",
   "metadata": {},
   "source": [
    "### Slicing \n",
    "\n",
    "- All slice operations return a new list containing the requested elements. "
   ]
  },
  {
   "cell_type": "code",
   "execution_count": 5,
   "metadata": {},
   "outputs": [
    {
     "data": {
      "text/plain": [
       "['DOTS', 'Tootsie Roll', 'Suckers', 'Blue Tootsie', 'Hershey', 'M&Ms']"
      ]
     },
     "execution_count": 5,
     "metadata": {},
     "output_type": "execute_result"
    }
   ],
   "source": [
    "# This means that the following slice returns a new (shallow) copy of the list\n",
    "a[:]"
   ]
  },
  {
   "cell_type": "markdown",
   "metadata": {},
   "source": [
    "![Image of candy jar](https://files.realpython.com/media/t.c11ea56e8ca2.png)"
   ]
  },
  {
   "cell_type": "code",
   "execution_count": 6,
   "metadata": {},
   "outputs": [
    {
     "data": {
      "text/plain": [
       "'M&Ms'"
      ]
     },
     "execution_count": 6,
     "metadata": {},
     "output_type": "execute_result"
    }
   ],
   "source": [
    "a[-1]"
   ]
  },
  {
   "cell_type": "code",
   "execution_count": 7,
   "metadata": {},
   "outputs": [
    {
     "data": {
      "text/plain": [
       "['DOTS', 'Tootsie Roll', 'Suckers']"
      ]
     },
     "execution_count": 7,
     "metadata": {},
     "output_type": "execute_result"
    }
   ],
   "source": [
    "a[:-3]"
   ]
  },
  {
   "cell_type": "code",
   "execution_count": 8,
   "metadata": {},
   "outputs": [
    {
     "data": {
      "text/plain": [
       "['Tootsie Roll', 'Suckers', 'Blue Tootsie']"
      ]
     },
     "execution_count": 8,
     "metadata": {},
     "output_type": "execute_result"
    }
   ],
   "source": [
    "a[-5:-2]"
   ]
  },
  {
   "cell_type": "code",
   "execution_count": 9,
   "metadata": {},
   "outputs": [
    {
     "name": "stdout",
     "output_type": "stream",
     "text": [
      "['DOTS', 'Tootsie Roll', 'Suckers', 'Blue Tootsie'] ['DOTS', 'Tootsie Roll', 'Suckers', 'Blue Tootsie']\n"
     ]
    }
   ],
   "source": [
    "print(a[:4], a[0:4])"
   ]
  },
  {
   "cell_type": "code",
   "execution_count": 10,
   "metadata": {},
   "outputs": [
    {
     "data": {
      "text/plain": [
       "['DOTS', 'Tootsie Roll', 'Suckers', 'Blue Tootsie', 'Hershey', 'M&Ms']"
      ]
     },
     "execution_count": 10,
     "metadata": {},
     "output_type": "execute_result"
    }
   ],
   "source": [
    "a[:]"
   ]
  },
  {
   "cell_type": "code",
   "execution_count": 11,
   "metadata": {},
   "outputs": [
    {
     "name": "stdout",
     "output_type": "stream",
     "text": [
      "['Tootsie Roll', 'Suckers', 'Blue Tootsie'] ['Tootsie Roll', 'Suckers', 'Blue Tootsie']\n"
     ]
    }
   ],
   "source": [
    "print (a[-5:-2], a[1:4])"
   ]
  },
  {
   "cell_type": "code",
   "execution_count": 12,
   "metadata": {},
   "outputs": [],
   "source": [
    "# What if we want to add one new candy to the jar\n",
    "a.append(\"sinckers\")"
   ]
  },
  {
   "cell_type": "code",
   "execution_count": 13,
   "metadata": {},
   "outputs": [
    {
     "data": {
      "text/plain": [
       "['DOTS',\n",
       " 'Tootsie Roll',\n",
       " 'Suckers',\n",
       " 'Blue Tootsie',\n",
       " 'Hershey',\n",
       " 'M&Ms',\n",
       " 'sinckers']"
      ]
     },
     "execution_count": 13,
     "metadata": {},
     "output_type": "execute_result"
    }
   ],
   "source": [
    "# Do we have a new condy in the jar\n",
    "\n",
    "a"
   ]
  },
  {
   "cell_type": "code",
   "execution_count": 15,
   "metadata": {},
   "outputs": [
    {
     "data": {
      "text/plain": [
       "['DOTS',\n",
       " 'Tootsie Roll',\n",
       " 'Suckers',\n",
       " 'Blue Tootsie',\n",
       " 'Hershey',\n",
       " 'M&Ms',\n",
       " 'sinckers',\n",
       " '1000 grand',\n",
       " 'Mars']"
      ]
     },
     "execution_count": 15,
     "metadata": {},
     "output_type": "execute_result"
    }
   ],
   "source": [
    "# What if we want to add more candies \n",
    "\n",
    "a.extend([\"1000 grand\",\"Mars\"])\n",
    "\n",
    "a\n"
   ]
  },
  {
   "cell_type": "code",
   "execution_count": 16,
   "metadata": {},
   "outputs": [
    {
     "data": {
      "text/plain": [
       "['DOTS',\n",
       " 'Tootsie Roll',\n",
       " 'Suckers',\n",
       " 'Blue Tootsie',\n",
       " 'Hershey',\n",
       " 'M&Ms',\n",
       " 'sinckers',\n",
       " '1000 grand',\n",
       " 'Mars',\n",
       " 'cookie',\n",
       " 'cup cakes',\n",
       " 'brownies']"
      ]
     },
     "execution_count": 16,
     "metadata": {},
     "output_type": "execute_result"
    }
   ],
   "source": [
    "# What if we want to combine two jars\n",
    "\n",
    "b = [\"cookie\", \"cup cakes\", \"brownies\"]\n",
    "\n",
    "bigger_jar = a + b\n",
    "\n",
    "bigger_jar"
   ]
  },
  {
   "cell_type": "code",
   "execution_count": 17,
   "metadata": {},
   "outputs": [],
   "source": [
    "# What if, we want to replace brownies with ice cream. Who doesnt like ice cream.\n",
    "\n",
    "bigger_jar[-1] = 'Ice cream'\n",
    "\n",
    "# we know the position on ice cream is at the end. hence -1 index. "
   ]
  },
  {
   "cell_type": "code",
   "execution_count": 19,
   "metadata": {},
   "outputs": [
    {
     "data": {
      "text/plain": [
       "['DOTS',\n",
       " 'Tootsie Roll',\n",
       " 'Suckers',\n",
       " 'Blue Tootsie',\n",
       " 'Hershey',\n",
       " 'M&Ms',\n",
       " 'sinckers',\n",
       " '1000 grand',\n",
       " 'Mars',\n",
       " 'cookie',\n",
       " 'cup cakes',\n",
       " 'Ice cream']"
      ]
     },
     "execution_count": 19,
     "metadata": {},
     "output_type": "execute_result"
    }
   ],
   "source": [
    "# do we have ice cream in the jar? \n",
    "bigger_jar"
   ]
  },
  {
   "cell_type": "code",
   "execution_count": null,
   "metadata": {},
   "outputs": [],
   "source": [
    "# But what if we do not know the position of brownine? \n",
    "\n",
    "# This is where we will exapand out scope:\n",
    "# Task 1. Find the brownie \n",
    "# Task 2: Replace the brownie with icecream \n",
    "\n",
    "\n",
    "# What this means is that we need to idenify the index of the brownie. "
   ]
  },
  {
   "cell_type": "code",
   "execution_count": null,
   "metadata": {},
   "outputs": [],
   "source": []
  }
 ],
 "metadata": {
  "kernelspec": {
   "display_name": "Python 3",
   "language": "python",
   "name": "python3"
  },
  "language_info": {
   "codemirror_mode": {
    "name": "ipython",
    "version": 3
   },
   "file_extension": ".py",
   "mimetype": "text/x-python",
   "name": "python",
   "nbconvert_exporter": "python",
   "pygments_lexer": "ipython3",
   "version": "3.7.3"
  }
 },
 "nbformat": 4,
 "nbformat_minor": 2
}
