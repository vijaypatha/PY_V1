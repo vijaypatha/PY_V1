{
 "cells": [
  {
   "attachments": {},
   "cell_type": "markdown",
   "metadata": {},
   "source": [
    "# Lists or Candy Jar\n",
    "\n",
    "- Container that holds (Data Structure) data types. \n",
    "- List is similar to a Jar that has candy in it. Each candy is data type (string, number, float, boolean). List holds all these data types (candies togather) \n",
    "\n",
    "![Image of candy jar](https://cdn.displays2go.com/images/zoom/pjtk775_propped_preview.jpg)"
   ]
  },
  {
   "cell_type": "code",
   "execution_count": 13,
   "metadata": {},
   "outputs": [
    {
     "data": {
      "text/plain": [
       "['DOTS', 'Tootsie Roll', 'Suckers', 'Blue Tootsie']"
      ]
     },
     "execution_count": 13,
     "metadata": {},
     "output_type": "execute_result"
    }
   ],
   "source": [
    "a = ['DOTS','Tootsie Roll','Suckers', 'Blue Tootsie']\n",
    "\n",
    "a"
   ]
  },
  {
   "cell_type": "code",
   "execution_count": 14,
   "metadata": {},
   "outputs": [
    {
     "data": {
      "text/plain": [
       "list"
      ]
     },
     "execution_count": 14,
     "metadata": {},
     "output_type": "execute_result"
    }
   ],
   "source": [
    "type(a)"
   ]
  },
  {
   "cell_type": "markdown",
   "metadata": {},
   "source": [
    "Having the candies in the jar is not very useful. We need to enjoy them! \n",
    "\n",
    "Indexing: Identify the location of one of the 4 canides in the Jar\n",
    "Slicing: I do not like Suckers. So i have to seprate my faviorte candies from the jar"
   ]
  },
  {
   "cell_type": "code",
   "execution_count": null,
   "metadata": {},
   "outputs": [],
   "source": []
  }
 ],
 "metadata": {
  "kernelspec": {
   "display_name": "Python 3",
   "language": "python",
   "name": "python3"
  },
  "language_info": {
   "codemirror_mode": {
    "name": "ipython",
    "version": 3
   },
   "file_extension": ".py",
   "mimetype": "text/x-python",
   "name": "python",
   "nbconvert_exporter": "python",
   "pygments_lexer": "ipython3",
   "version": "3.7.3"
  }
 },
 "nbformat": 4,
 "nbformat_minor": 2
}
