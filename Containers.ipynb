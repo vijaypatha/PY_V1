{
 "cells": [
  {
   "cell_type": "markdown",
   "metadata": {},
   "source": [
    "# Lists or Candy Jar\n",
    "\n",
    "- Container that holds (Data Structure) data types. \n",
    "- List is similar to a Jar that has candy in it. Each candy is data type (string, number, float, boolean). List holds all these data types (candies togather) \n",
    "\n",
    "![Image of candy jar](https://cdn.displays2go.com/images/zoom/pjtk775_propped_preview.jpg)"
   ]
  },
  {
   "cell_type": "code",
   "execution_count": 27,
   "metadata": {},
   "outputs": [
    {
     "data": {
      "text/plain": [
       "['DOTS', 'Tootsie Roll', 'Suckers', 'Blue Tootsie', 'Hershey', 'M&Ms']"
      ]
     },
     "execution_count": 27,
     "metadata": {},
     "output_type": "execute_result"
    }
   ],
   "source": [
    "a = ['DOTS','Tootsie Roll','Suckers', 'Blue Tootsie', 'Hershey','M&Ms']\n",
    "\n",
    "a"
   ]
  },
  {
   "cell_type": "code",
   "execution_count": 28,
   "metadata": {},
   "outputs": [
    {
     "data": {
      "text/plain": [
       "list"
      ]
     },
     "execution_count": 28,
     "metadata": {},
     "output_type": "execute_result"
    }
   ],
   "source": [
    "type(a)"
   ]
  },
  {
   "cell_type": "markdown",
   "metadata": {},
   "source": [
    "### Logical Steps \n",
    "\n",
    "Having the candies in the jar is not very useful. We need to enjoy them! \n",
    "\n",
    "We enjoy them by using indexing and slicing them\n",
    "\n",
    "Indexing: returning candies using their location\n",
    "Slicing: I do not like Suckers. So i have to seprate my faviorte candies from the jar"
   ]
  },
  {
   "cell_type": "markdown",
   "metadata": {},
   "source": [
    "### Indexing \n",
    "- These are all the candies we have 'DOTS', 'Tootsie Roll', 'Suckers', 'Blue Tootsie'\n",
    "- [0:3] starts taking candies at index 0 and stop before index 3. \n",
    "- Indexing just returns the candies in a location \n",
    "\n",
    "https://docs.python.org/3/tutorial/introduction.html#lists"
   ]
  },
  {
   "cell_type": "code",
   "execution_count": 29,
   "metadata": {},
   "outputs": [
    {
     "data": {
      "text/plain": [
       "'DOTS'"
      ]
     },
     "execution_count": 29,
     "metadata": {},
     "output_type": "execute_result"
    }
   ],
   "source": [
    "# Lets get dots\n",
    "a[0]"
   ]
  },
  {
   "cell_type": "code",
   "execution_count": 30,
   "metadata": {},
   "outputs": [
    {
     "data": {
      "text/plain": [
       "['DOTS', 'Tootsie Roll', 'Suckers']"
      ]
     },
     "execution_count": 30,
     "metadata": {},
     "output_type": "execute_result"
    }
   ],
   "source": [
    "a[0:3]"
   ]
  },
  {
   "cell_type": "markdown",
   "metadata": {},
   "source": [
    "### Slicing \n",
    "\n",
    "- All slice operations return a new list containing the requested elements. "
   ]
  },
  {
   "cell_type": "code",
   "execution_count": 31,
   "metadata": {},
   "outputs": [
    {
     "data": {
      "text/plain": [
       "['DOTS', 'Tootsie Roll', 'Suckers', 'Blue Tootsie', 'Hershey', 'M&Ms']"
      ]
     },
     "execution_count": 31,
     "metadata": {},
     "output_type": "execute_result"
    }
   ],
   "source": [
    "# This means that the following slice returns a new (shallow) copy of the list\n",
    "a[:]"
   ]
  },
  {
   "cell_type": "markdown",
   "metadata": {},
   "source": [
    "![Image of candy jar](https://files.realpython.com/media/t.c11ea56e8ca2.png)"
   ]
  },
  {
   "cell_type": "code",
   "execution_count": 32,
   "metadata": {},
   "outputs": [
    {
     "data": {
      "text/plain": [
       "'M&Ms'"
      ]
     },
     "execution_count": 32,
     "metadata": {},
     "output_type": "execute_result"
    }
   ],
   "source": [
    "a[-1]"
   ]
  },
  {
   "cell_type": "code",
   "execution_count": 33,
   "metadata": {},
   "outputs": [
    {
     "data": {
      "text/plain": [
       "['DOTS', 'Tootsie Roll', 'Suckers']"
      ]
     },
     "execution_count": 33,
     "metadata": {},
     "output_type": "execute_result"
    }
   ],
   "source": [
    "a[:-3]"
   ]
  },
  {
   "cell_type": "code",
   "execution_count": 34,
   "metadata": {},
   "outputs": [
    {
     "name": "stdout",
     "output_type": "stream",
     "text": [
      "['DOTS', 'Tootsie Roll', 'Suckers', 'Blue Tootsie'] ['DOTS', 'Tootsie Roll', 'Suckers', 'Blue Tootsie']\n"
     ]
    }
   ],
   "source": [
    "print(a[:4], a[0:4])"
   ]
  },
  {
   "cell_type": "code",
   "execution_count": null,
   "metadata": {},
   "outputs": [],
   "source": []
  }
 ],
 "metadata": {
  "kernelspec": {
   "display_name": "Python 3",
   "language": "python",
   "name": "python3"
  },
  "language_info": {
   "codemirror_mode": {
    "name": "ipython",
    "version": 3
   },
   "file_extension": ".py",
   "mimetype": "text/x-python",
   "name": "python",
   "nbconvert_exporter": "python",
   "pygments_lexer": "ipython3",
   "version": "3.7.3"
  }
 },
 "nbformat": 4,
 "nbformat_minor": 2
}
