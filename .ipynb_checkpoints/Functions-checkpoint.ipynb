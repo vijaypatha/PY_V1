{
 "cells": [
  {
   "cell_type": "markdown",
   "metadata": {},
   "source": [
    "# Simple Function\n",
    "![simple_function ](https://cdn-images-1.medium.com/max/1600/1*LC6hVh2y8kItSZ9z5bUVYg.png)\n",
    "\n",
    "# Complex Function \n",
    "![complex function](https://upload.wikimedia.org/wikipedia/commons/thumb/1/1f/Moore-Automat-en.svg/550px-Moore-Automat-en.svg.png)"
   ]
  },
  {
   "cell_type": "code",
   "execution_count": 7,
   "metadata": {},
   "outputs": [
    {
     "data": {
      "text/plain": [
       "13"
      ]
     },
     "execution_count": 7,
     "metadata": {},
     "output_type": "execute_result"
    }
   ],
   "source": [
    "#Example1: add two numbers\n",
    "10+3"
   ]
  },
  {
   "cell_type": "code",
   "execution_count": 8,
   "metadata": {},
   "outputs": [
    {
     "data": {
      "text/plain": [
       "1242"
      ]
     },
     "execution_count": 8,
     "metadata": {},
     "output_type": "execute_result"
    }
   ],
   "source": [
    "#Example 2: add two numbers\n",
    "19+1223"
   ]
  },
  {
   "cell_type": "code",
   "execution_count": 10,
   "metadata": {},
   "outputs": [
    {
     "data": {
      "text/plain": [
       "13"
      ]
     },
     "execution_count": 10,
     "metadata": {},
     "output_type": "execute_result"
    }
   ],
   "source": [
    "# In example 1 and 2. We provide two numbers as a input and we get a result as an output \n",
    "# What if we have to 10 times of same things. It will get boring \n",
    "\n",
    "def addnums(x, y):\n",
    "    total = x + y \n",
    "    return total\n",
    "addnums(19, 1223)\n",
    "addnums(10,3)"
   ]
  },
  {
   "cell_type": "code",
   "execution_count": null,
   "metadata": {},
   "outputs": [],
   "source": [
    "# Imagin candy company (comprehension). What if you have to make every candy one by one\n",
    "# you want to make lot of candies at once. This is where functions come in. They are like machines. You tell them what dish\n",
    "# the machine should product with the ingridants you will provide. \n",
    "\n",
    "# Imagine you have to cook your faviorte food - frech fries. You create a machine that will give you french fries, when you\n",
    "# provide potatoes to it. "
   ]
  },
  {
   "cell_type": "code",
   "execution_count": 12,
   "metadata": {},
   "outputs": [
    {
     "data": {
      "text/plain": [
       "'Potatoes French Fries'"
      ]
     },
     "execution_count": 12,
     "metadata": {},
     "output_type": "execute_result"
    }
   ],
   "source": [
    "def favFood(ingredients):\n",
    "    dish = ingredients + \" French Fries\"\n",
    "    return dish \n",
    "favFood(\"Potatoes\")"
   ]
  }
 ],
 "metadata": {
  "kernelspec": {
   "display_name": "Python 3",
   "language": "python",
   "name": "python3"
  },
  "language_info": {
   "codemirror_mode": {
    "name": "ipython",
    "version": 3
   },
   "file_extension": ".py",
   "mimetype": "text/x-python",
   "name": "python",
   "nbconvert_exporter": "python",
   "pygments_lexer": "ipython3",
   "version": "3.7.3"
  }
 },
 "nbformat": 4,
 "nbformat_minor": 2
}
