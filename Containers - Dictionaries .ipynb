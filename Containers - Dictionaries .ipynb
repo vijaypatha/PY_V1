{
 "cells": [
  {
   "cell_type": "markdown",
   "metadata": {},
   "source": [
    "# Dictionary or Mail boxes\n",
    "\n",
    "- Container that holds (Data Structure) data types. \n",
    "- Dictionary contains data\n",
    "- Mail box has\n",
    "    - Box ( a box has a unique number or key)\n",
    "    - Contents (when you open the box there could be varitey of things aka data )\n",
    "- Dictionary has\n",
    "    - Key \n",
    "    - Value\n",
    "    \n",
    "- The way we use dictionaries is bascially, find this box(key) and do something with the contents in it \n",
    "\n",
    "![Image of mail room](https://rachelcarson.ucsc.edu/images/MailRoom%20Banner.jpg)"
   ]
  },
  {
   "cell_type": "code",
   "execution_count": 1,
   "metadata": {},
   "outputs": [
    {
     "data": {
      "text/plain": [
       "dict"
      ]
     },
     "execution_count": 1,
     "metadata": {},
     "output_type": "execute_result"
    }
   ],
   "source": [
    "# Create dictionary \n",
    "\n",
    "mail = {\"Box\": 973, \"Owner\": \"Vijay\", \"Stuff\": [\"letters\", 100, \"magazines\"]}\n",
    "type(mail)"
   ]
  },
  {
   "cell_type": "code",
   "execution_count": 2,
   "metadata": {},
   "outputs": [
    {
     "data": {
      "text/plain": [
       "dict"
      ]
     },
     "execution_count": 2,
     "metadata": {},
     "output_type": "execute_result"
    }
   ],
   "source": [
    "# Another way to create dictionary \n",
    "mail_room = dict(Box = 973, Owner = \"Vijay\")\n",
    "type(mail_room)"
   ]
  },
  {
   "cell_type": "code",
   "execution_count": 3,
   "metadata": {},
   "outputs": [
    {
     "data": {
      "text/plain": [
       "973"
      ]
     },
     "execution_count": 3,
     "metadata": {},
     "output_type": "execute_result"
    }
   ],
   "source": [
    "# How to get stuff from the mail box: you use a key\n",
    "# How to get stuff from a dictionary: you use a key\n",
    "\n",
    "# you cannot access the contents without the key. \n",
    "mail['Box']"
   ]
  },
  {
   "cell_type": "code",
   "execution_count": 4,
   "metadata": {},
   "outputs": [
    {
     "data": {
      "text/plain": [
       "{'Box': 973, 'Owner': 'Heidi', 'Stuff': ['letters', 100, 'magazines']}"
      ]
     },
     "execution_count": 4,
     "metadata": {},
     "output_type": "execute_result"
    }
   ],
   "source": [
    "# How to chage the value of a key\n",
    "mail['Owner'] = \"Heidi\"\n",
    "mail"
   ]
  },
  {
   "cell_type": "code",
   "execution_count": 5,
   "metadata": {},
   "outputs": [
    {
     "data": {
      "text/plain": [
       "dict"
      ]
     },
     "execution_count": 5,
     "metadata": {},
     "output_type": "execute_result"
    }
   ],
   "source": [
    "# You may not always have all the information about the box and its contents right away.\n",
    "# Someone is visiting your mail shop and wants to rent a mail box. So, how to build a dictioanry on the fly?\n",
    "\n",
    "mail_box = {} # an empty box! \n",
    "mail_box['Box'] = 1006 \n",
    "mail_box['Owner'] = 'Niels'\n",
    "mail_box['Address'] = '123 B street, checkout state'\n",
    "mail_box['Term'] = 6\n",
    "mail_box['license'] = 'WR123F45432H778'\n",
    "mail_box['Contents'] = ['Mail', 'Mag', 'Cash', 'anything addressed']\n",
    "\n",
    "type(mail_box)"
   ]
  },
  {
   "cell_type": "code",
   "execution_count": 6,
   "metadata": {},
   "outputs": [
    {
     "data": {
      "text/plain": [
       "{'Box': 1006,\n",
       " 'Owner': 'Niels',\n",
       " 'Address': '123 B street, checkout state',\n",
       " 'Term': 6,\n",
       " 'license': 'WR123F45432H778',\n",
       " 'Contents': ['Mail', 'Mag', 'Cash', 'anything addressed']}"
      ]
     },
     "execution_count": 6,
     "metadata": {},
     "output_type": "execute_result"
    }
   ],
   "source": [
    "mail_box"
   ]
  },
  {
   "cell_type": "code",
   "execution_count": 7,
   "metadata": {},
   "outputs": [
    {
     "data": {
      "text/plain": [
       "{'Box': 1006,\n",
       " 'Owner': 'Niels',\n",
       " 'Address': '123 B street, checkout state',\n",
       " 'Term': 12,\n",
       " 'license': 'WR123F45432H778',\n",
       " 'Contents': ['Mail', 'Mag', 'Cash', 'anything addressed']}"
      ]
     },
     "execution_count": 7,
     "metadata": {},
     "output_type": "execute_result"
    }
   ],
   "source": [
    "# Niels wants to extend the Term to 12 months, instead of 6 months\n",
    "\n",
    "mail_box['Term'] = 12\n",
    "mail_box"
   ]
  },
  {
   "cell_type": "code",
   "execution_count": 8,
   "metadata": {},
   "outputs": [
    {
     "ename": "KeyError",
     "evalue": "See https://www.python.org/psf/license/",
     "output_type": "error",
     "traceback": [
      "\u001b[1;31m---------------------------------------------------------------------------\u001b[0m",
      "\u001b[1;31mKeyError\u001b[0m                                  Traceback (most recent call last)",
      "\u001b[1;32m<ipython-input-8-29c65326eeef>\u001b[0m in \u001b[0;36m<module>\u001b[1;34m\u001b[0m\n\u001b[0;32m      3\u001b[0m \u001b[1;31m# What happens if we look for licence for heidi\u001b[0m\u001b[1;33m\u001b[0m\u001b[1;33m\u001b[0m\u001b[1;33m\u001b[0m\u001b[0m\n\u001b[0;32m      4\u001b[0m \u001b[1;33m\u001b[0m\u001b[0m\n\u001b[1;32m----> 5\u001b[1;33m \u001b[0mmail\u001b[0m\u001b[1;33m[\u001b[0m\u001b[0mlicense\u001b[0m\u001b[1;33m]\u001b[0m\u001b[1;33m\u001b[0m\u001b[1;33m\u001b[0m\u001b[0m\n\u001b[0m",
      "\u001b[1;31mKeyError\u001b[0m: See https://www.python.org/psf/license/"
     ]
    }
   ],
   "source": [
    "# So, Lets compare Heidi and Niels Mail Boxes. Niels has license attached to the box but not to Heidi. \n",
    "\n",
    "# What happens if we look for licence for heidi\n",
    "\n",
    "mail[license]"
   ]
  },
  {
   "cell_type": "code",
   "execution_count": 9,
   "metadata": {},
   "outputs": [
    {
     "data": {
      "text/plain": [
       "'Not found'"
      ]
     },
     "execution_count": 9,
     "metadata": {},
     "output_type": "execute_result"
    }
   ],
   "source": [
    "# A ERROR happens. How to get our program to give us \"no results found\" instead of a error and stops entire program \n",
    "\n",
    "# Answer: We use get method\n",
    "\n",
    "mail.get('license','Not found')"
   ]
  },
  {
   "cell_type": "code",
   "execution_count": 10,
   "metadata": {},
   "outputs": [
    {
     "data": {
      "text/plain": [
       "dict_keys(['Box', 'Owner', 'Address', 'Term', 'license', 'Contents'])"
      ]
     },
     "execution_count": 10,
     "metadata": {},
     "output_type": "execute_result"
    }
   ],
   "source": [
    "# How to access keys, values, and both\n",
    "\n",
    "mail_box.keys()"
   ]
  },
  {
   "cell_type": "code",
   "execution_count": 11,
   "metadata": {},
   "outputs": [
    {
     "data": {
      "text/plain": [
       "dict_values([1006, 'Niels', '123 B street, checkout state', 12, 'WR123F45432H778', ['Mail', 'Mag', 'Cash', 'anything addressed']])"
      ]
     },
     "execution_count": 11,
     "metadata": {},
     "output_type": "execute_result"
    }
   ],
   "source": [
    "mail_box.values()"
   ]
  },
  {
   "cell_type": "code",
   "execution_count": 12,
   "metadata": {},
   "outputs": [
    {
     "data": {
      "text/plain": [
       "dict_items([('Box', 1006), ('Owner', 'Niels'), ('Address', '123 B street, checkout state'), ('Term', 12), ('license', 'WR123F45432H778'), ('Contents', ['Mail', 'Mag', 'Cash', 'anything addressed'])])"
      ]
     },
     "execution_count": 12,
     "metadata": {},
     "output_type": "execute_result"
    }
   ],
   "source": [
    "mail_box.items()"
   ]
  },
  {
   "cell_type": "code",
   "execution_count": 13,
   "metadata": {},
   "outputs": [
    {
     "name": "stdout",
     "output_type": "stream",
     "text": [
      "Box\n",
      "Owner\n",
      "Address\n",
      "Term\n",
      "license\n",
      "Contents\n"
     ]
    }
   ],
   "source": [
    "# This is a key info for loops\n",
    "\n",
    "for key in mail_box:\n",
    "    print(key)"
   ]
  },
  {
   "cell_type": "code",
   "execution_count": 23,
   "metadata": {},
   "outputs": [
    {
     "name": "stdout",
     "output_type": "stream",
     "text": [
      "1006\n",
      "Niels\n",
      "123 B street, checkout state\n",
      "12\n",
      "WR123F45432H778\n",
      "['Mail', 'Mag', 'Cash', 'anything addressed']\n"
     ]
    }
   ],
   "source": [
    "# This is a key info for loops\n",
    "\n",
    "for key in mail_box.values():\n",
    "    print(key)"
   ]
  },
  {
   "cell_type": "code",
   "execution_count": 17,
   "metadata": {},
   "outputs": [
    {
     "name": "stdout",
     "output_type": "stream",
     "text": [
      "Box 1006\n",
      "Owner Niels\n",
      "Address 123 B street, checkout state\n",
      "Term 12\n",
      "license WR123F45432H778\n",
      "Contents ['Mail', 'Mag', 'Cash', 'anything addressed']\n"
     ]
    }
   ],
   "source": [
    "for key, value in mail_box.items():\n",
    "    print(key, value)"
   ]
  },
  {
   "cell_type": "code",
   "execution_count": 21,
   "metadata": {},
   "outputs": [],
   "source": [
    "# Before we go \n",
    "# Here is a candy jar that has all these candies. How to access it? \n",
    "x = [\n",
    "    'a',\n",
    "    'b',\n",
    "    {\n",
    "        'foo': 1,\n",
    "        'bar':\n",
    "        {\n",
    "            'x' : 10,\n",
    "            'y' : 20,\n",
    "            'z' : 30\n",
    "        },\n",
    "        'baz': 3\n",
    "    },\n",
    "    'c',\n",
    "    'd'\n",
    "]"
   ]
  },
  {
   "cell_type": "code",
   "execution_count": 22,
   "metadata": {},
   "outputs": [
    {
     "data": {
      "text/plain": [
       "30"
      ]
     },
     "execution_count": 22,
     "metadata": {},
     "output_type": "execute_result"
    }
   ],
   "source": [
    "# Get me 30\n",
    "# THis is a list and dictionary combo\n",
    "# list is access with index\n",
    "# dict is accessed with key\n",
    "\n",
    "x[2]['bar']['z']"
   ]
  },
  {
   "cell_type": "code",
   "execution_count": 20,
   "metadata": {},
   "outputs": [
    {
     "data": {
      "text/plain": [
       "{'Box': 1006,\n",
       " 'Owner': 'Niels',\n",
       " 'Address': '123 B street, checkout state',\n",
       " 'Term': 12,\n",
       " 'license': 'WR123F45432H778',\n",
       " 'Contents': ['Mail', 'Mag', 'Cash', 'anything addressed']}"
      ]
     },
     "execution_count": 20,
     "metadata": {},
     "output_type": "execute_result"
    }
   ],
   "source": []
  },
  {
   "cell_type": "code",
   "execution_count": null,
   "metadata": {},
   "outputs": [],
   "source": []
  }
 ],
 "metadata": {
  "kernelspec": {
   "display_name": "Python 3",
   "language": "python",
   "name": "python3"
  },
  "language_info": {
   "codemirror_mode": {
    "name": "ipython",
    "version": 3
   },
   "file_extension": ".py",
   "mimetype": "text/x-python",
   "name": "python",
   "nbconvert_exporter": "python",
   "pygments_lexer": "ipython3",
   "version": "3.7.3"
  }
 },
 "nbformat": 4,
 "nbformat_minor": 2
}
