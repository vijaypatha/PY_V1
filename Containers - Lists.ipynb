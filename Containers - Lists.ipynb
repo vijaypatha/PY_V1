{
 "cells": [
  {
   "cell_type": "markdown",
   "metadata": {},
   "source": [
    "# Lists or Candy Jar\n",
    "\n",
    "- Container that holds (Data Structure) data types. \n",
    "- List is similar to a Jar that has candy in it. Each candy is data type (string, number, float, boolean). List holds all these data types (candies togather) \n",
    "\n",
    "![Image of candy jar](https://cdn.displays2go.com/images/zoom/pjtk775_propped_preview.jpg)"
   ]
  },
  {
   "cell_type": "code",
   "execution_count": 1,
   "metadata": {},
   "outputs": [
    {
     "data": {
      "text/plain": [
       "['DOTS', 'Tootsie Roll', 'Suckers', 'Blue Tootsie', 'Hershey', 'M&Ms']"
      ]
     },
     "execution_count": 1,
     "metadata": {},
     "output_type": "execute_result"
    }
   ],
   "source": [
    "a = ['DOTS','Tootsie Roll','Suckers', 'Blue Tootsie', 'Hershey','M&Ms']\n",
    "\n",
    "a"
   ]
  },
  {
   "cell_type": "code",
   "execution_count": 2,
   "metadata": {},
   "outputs": [
    {
     "data": {
      "text/plain": [
       "list"
      ]
     },
     "execution_count": 2,
     "metadata": {},
     "output_type": "execute_result"
    }
   ],
   "source": [
    "type(a)"
   ]
  },
  {
   "cell_type": "markdown",
   "metadata": {},
   "source": [
    "### Logical Steps \n",
    "\n",
    "Having the candies in the jar is not very useful. We need to enjoy them! \n",
    "\n",
    "We enjoy them by using indexing and slicing them\n",
    "\n",
    "Indexing: returning candies using their location\n",
    "Slicing: I do not like Suckers. So i have to seprate my faviorte candies from the jar"
   ]
  },
  {
   "cell_type": "markdown",
   "metadata": {},
   "source": [
    "### Indexing \n",
    "- These are all the candies we have 'DOTS', 'Tootsie Roll', 'Suckers', 'Blue Tootsie'\n",
    "- [0:3] starts taking candies at index 0 and stop before index 3. \n",
    "- Indexing just returns the candies in a location \n",
    "\n",
    "https://docs.python.org/3/tutorial/introduction.html#lists"
   ]
  },
  {
   "cell_type": "code",
   "execution_count": 3,
   "metadata": {},
   "outputs": [
    {
     "data": {
      "text/plain": [
       "'DOTS'"
      ]
     },
     "execution_count": 3,
     "metadata": {},
     "output_type": "execute_result"
    }
   ],
   "source": [
    "# Lets get dots\n",
    "a[0]"
   ]
  },
  {
   "cell_type": "code",
   "execution_count": 4,
   "metadata": {},
   "outputs": [
    {
     "data": {
      "text/plain": [
       "['DOTS', 'Tootsie Roll', 'Suckers']"
      ]
     },
     "execution_count": 4,
     "metadata": {},
     "output_type": "execute_result"
    }
   ],
   "source": [
    "a[0:3]"
   ]
  },
  {
   "cell_type": "markdown",
   "metadata": {},
   "source": [
    "### Slicing \n",
    "\n",
    "- All slice operations return a new list containing the requested elements. "
   ]
  },
  {
   "cell_type": "code",
   "execution_count": 5,
   "metadata": {},
   "outputs": [
    {
     "data": {
      "text/plain": [
       "['DOTS', 'Tootsie Roll', 'Suckers', 'Blue Tootsie', 'Hershey', 'M&Ms']"
      ]
     },
     "execution_count": 5,
     "metadata": {},
     "output_type": "execute_result"
    }
   ],
   "source": [
    "# This means that the following slice returns a new (shallow) copy of the list\n",
    "a[:]"
   ]
  },
  {
   "cell_type": "markdown",
   "metadata": {},
   "source": [
    "![Image of candy jar](https://files.realpython.com/media/t.c11ea56e8ca2.png)"
   ]
  },
  {
   "cell_type": "code",
   "execution_count": 6,
   "metadata": {},
   "outputs": [
    {
     "data": {
      "text/plain": [
       "'M&Ms'"
      ]
     },
     "execution_count": 6,
     "metadata": {},
     "output_type": "execute_result"
    }
   ],
   "source": [
    "a[-1]"
   ]
  },
  {
   "cell_type": "code",
   "execution_count": 7,
   "metadata": {},
   "outputs": [
    {
     "data": {
      "text/plain": [
       "['DOTS', 'Tootsie Roll', 'Suckers']"
      ]
     },
     "execution_count": 7,
     "metadata": {},
     "output_type": "execute_result"
    }
   ],
   "source": [
    "a[:-3]"
   ]
  },
  {
   "cell_type": "code",
   "execution_count": 8,
   "metadata": {},
   "outputs": [
    {
     "data": {
      "text/plain": [
       "['Tootsie Roll', 'Suckers', 'Blue Tootsie']"
      ]
     },
     "execution_count": 8,
     "metadata": {},
     "output_type": "execute_result"
    }
   ],
   "source": [
    "a[-5:-2]"
   ]
  },
  {
   "cell_type": "code",
   "execution_count": 9,
   "metadata": {},
   "outputs": [
    {
     "name": "stdout",
     "output_type": "stream",
     "text": [
      "['DOTS', 'Tootsie Roll', 'Suckers', 'Blue Tootsie'] ['DOTS', 'Tootsie Roll', 'Suckers', 'Blue Tootsie']\n"
     ]
    }
   ],
   "source": [
    "print(a[:4], a[0:4])"
   ]
  },
  {
   "cell_type": "code",
   "execution_count": 10,
   "metadata": {},
   "outputs": [
    {
     "data": {
      "text/plain": [
       "['DOTS', 'Tootsie Roll', 'Suckers', 'Blue Tootsie', 'Hershey', 'M&Ms']"
      ]
     },
     "execution_count": 10,
     "metadata": {},
     "output_type": "execute_result"
    }
   ],
   "source": [
    "a[:]"
   ]
  },
  {
   "cell_type": "code",
   "execution_count": 11,
   "metadata": {},
   "outputs": [
    {
     "name": "stdout",
     "output_type": "stream",
     "text": [
      "['Tootsie Roll', 'Suckers', 'Blue Tootsie'] ['Tootsie Roll', 'Suckers', 'Blue Tootsie']\n"
     ]
    }
   ],
   "source": [
    "print (a[-5:-2], a[1:4])"
   ]
  },
  {
   "cell_type": "code",
   "execution_count": 12,
   "metadata": {},
   "outputs": [],
   "source": [
    "# What if we want to add one new candy to the jar\n",
    "a.append(\"sinckers\")"
   ]
  },
  {
   "cell_type": "code",
   "execution_count": 13,
   "metadata": {},
   "outputs": [
    {
     "data": {
      "text/plain": [
       "['DOTS',\n",
       " 'Tootsie Roll',\n",
       " 'Suckers',\n",
       " 'Blue Tootsie',\n",
       " 'Hershey',\n",
       " 'M&Ms',\n",
       " 'sinckers']"
      ]
     },
     "execution_count": 13,
     "metadata": {},
     "output_type": "execute_result"
    }
   ],
   "source": [
    "# Do we have a new condy in the jar\n",
    "\n",
    "a"
   ]
  },
  {
   "cell_type": "code",
   "execution_count": 15,
   "metadata": {},
   "outputs": [
    {
     "data": {
      "text/plain": [
       "['DOTS',\n",
       " 'Tootsie Roll',\n",
       " 'Suckers',\n",
       " 'Blue Tootsie',\n",
       " 'Hershey',\n",
       " 'M&Ms',\n",
       " 'sinckers',\n",
       " '1000 grand',\n",
       " 'Mars']"
      ]
     },
     "execution_count": 15,
     "metadata": {},
     "output_type": "execute_result"
    }
   ],
   "source": [
    "# What if we want to add more candies \n",
    "\n",
    "a.extend([\"1000 grand\",\"Mars\"])\n",
    "\n",
    "a\n"
   ]
  },
  {
   "cell_type": "code",
   "execution_count": 30,
   "metadata": {},
   "outputs": [
    {
     "data": {
      "text/plain": [
       "['DOTS',\n",
       " 'Tootsie Roll',\n",
       " 'Suckers',\n",
       " 'Blue Tootsie',\n",
       " 'Hershey',\n",
       " 'M&Ms',\n",
       " 'sinckers',\n",
       " '1000 grand',\n",
       " 'Mars',\n",
       " 'cookie',\n",
       " 'cup cakes',\n",
       " 'brownies']"
      ]
     },
     "execution_count": 30,
     "metadata": {},
     "output_type": "execute_result"
    }
   ],
   "source": [
    "# What if we want to combine two jars\n",
    "\n",
    "b = [\"cookie\", \"cup cakes\", \"brownies\"]\n",
    "\n",
    "bigger_jar = a + b\n",
    "\n",
    "bigger_jar"
   ]
  },
  {
   "cell_type": "code",
   "execution_count": 31,
   "metadata": {},
   "outputs": [],
   "source": [
    "# What if, we want to replace brownies with ice cream. Who doesnt like ice cream.\n",
    "\n",
    "bigger_jar[-1] = 'Ice cream'\n",
    "\n",
    "# we know the position on ice cream is at the end. hence it is -1 index. "
   ]
  },
  {
   "cell_type": "code",
   "execution_count": 32,
   "metadata": {},
   "outputs": [
    {
     "data": {
      "text/plain": [
       "['DOTS',\n",
       " 'Tootsie Roll',\n",
       " 'Suckers',\n",
       " 'Blue Tootsie',\n",
       " 'Hershey',\n",
       " 'M&Ms',\n",
       " 'sinckers',\n",
       " '1000 grand',\n",
       " 'Mars',\n",
       " 'cookie',\n",
       " 'cup cakes',\n",
       " 'Ice cream']"
      ]
     },
     "execution_count": 32,
     "metadata": {},
     "output_type": "execute_result"
    }
   ],
   "source": [
    "# do we have ice cream in the jar? \n",
    "bigger_jar"
   ]
  },
  {
   "cell_type": "markdown",
   "metadata": {},
   "source": [
    "#### But what if we do not know the position of brownine? \n",
    "\n",
    "- This is where we will exapand out scope:\n",
    "\n",
    "- Task 1. Find the brownie \n",
    "- Task 2: Replace the brownie with icecream \n",
    "\n",
    "-  What this means is that we need to idenify the index of the brownie. "
   ]
  },
  {
   "cell_type": "code",
   "execution_count": 33,
   "metadata": {},
   "outputs": [],
   "source": [
    "for n, i in enumerate(bigger_jar):\n",
    "    if i == \"Ice cream\":\n",
    "        bigger_jar[n] = \"sugar\""
   ]
  },
  {
   "cell_type": "code",
   "execution_count": 34,
   "metadata": {},
   "outputs": [
    {
     "data": {
      "text/plain": [
       "['DOTS',\n",
       " 'Tootsie Roll',\n",
       " 'Suckers',\n",
       " 'Blue Tootsie',\n",
       " 'Hershey',\n",
       " 'M&Ms',\n",
       " 'sinckers',\n",
       " '1000 grand',\n",
       " 'Mars',\n",
       " 'cookie',\n",
       " 'cup cakes',\n",
       " 'sugar']"
      ]
     },
     "execution_count": 34,
     "metadata": {},
     "output_type": "execute_result"
    }
   ],
   "source": [
    "bigger_jar"
   ]
  },
  {
   "cell_type": "markdown",
   "metadata": {},
   "source": [
    "# What just happend\n",
    "what is for, if, and enumerate?"
   ]
  },
  {
   "cell_type": "markdown",
   "metadata": {},
   "source": [
    "# If \n",
    "- SO far we been (before if, for, enumerate) sequential coding. One after the other. \n",
    "- But the world is complex. It is not as simple as 1,2,3 or A,B,C\n",
    "- World is more like adults (for a good reason). Adults have rules or conditions. They say: \"If you eat your veggies, then you can have your cookie or ice cream or may be both, if im in good mood.\"\n",
    "\n",
    "- So, how do you capture that conditions of a task infront of us. As in real world, If this than than..., we use if statements in python\n",
    "\n",
    "```if <condition>:\n",
    "    -statement \n",
    "```"
   ]
  },
  {
   "cell_type": "code",
   "execution_count": 35,
   "metadata": {},
   "outputs": [
    {
     "name": "stdout",
     "output_type": "stream",
     "text": [
      "Yes\n"
     ]
    }
   ],
   "source": [
    "if \"cookie\" in bigger_jar:\n",
    "    print(\"Yes\")\n",
    "    "
   ]
  },
  {
   "cell_type": "code",
   "execution_count": 36,
   "metadata": {},
   "outputs": [],
   "source": [
    "if \"brownie\" in bigger_jar:\n",
    "    print(\"Yes\")"
   ]
  },
  {
   "cell_type": "markdown",
   "metadata": {},
   "source": [
    "```\n",
    "if <expr>:\n",
    "    <statement(s)>\n",
    "else:\n",
    "    <statement(s)>\n",
    "```"
   ]
  },
  {
   "cell_type": "code",
   "execution_count": 37,
   "metadata": {},
   "outputs": [
    {
     "name": "stdout",
     "output_type": "stream",
     "text": [
      "No\n"
     ]
    }
   ],
   "source": [
    "if \"brownie\" in bigger_jar:\n",
    "    print(\"Yes\")\n",
    "else:\n",
    "    print(\"No\")"
   ]
  },
  {
   "cell_type": "markdown",
   "metadata": {},
   "source": [
    "### What if there are several alternative like this:\n",
    "\n",
    "\"If you eat your veggies, then you can have your cookie or ice cream or may be both, if im in good mood.\"\n",
    "\n",
    "```\n",
    "if <expr>:\n",
    "    <statement(s)>\n",
    "elif <expr>:\n",
    "    <statement(s)>\n",
    "elif <expr>:\n",
    "    <statement(s)>\n",
    "    ...\n",
    "else:\n",
    "    <statement(s)>\n",
    "```"
   ]
  },
  {
   "cell_type": "code",
   "execution_count": 44,
   "metadata": {},
   "outputs": [
    {
     "name": "stdout",
     "output_type": "stream",
     "text": [
      "nothing\n"
     ]
    }
   ],
   "source": [
    "mood = \"Good Mood\"\n",
    "eat = \"veggies\"\n",
    "\n",
    "if eat == \"veggies\" and mood == \"Good Mood\":\n",
    "    print(\" You get both cookie and ice cream\")\n",
    "elif eat == \"veggies\" and mood != \"Good Mood\":\n",
    "    print(\"Cookie or Ice cream\")\n",
    "else:\n",
    "    print(\"nothing\")\n",
    "    \n",
    "    "
   ]
  },
  {
   "cell_type": "markdown",
   "metadata": {},
   "source": [
    "# If (condition) \n",
    "- You will use a lot of these to make decisions\n",
    "\n",
    "```\n",
    "if <condition>:\n",
    "    statment \n",
    "elif <condition>:\n",
    "    statement\n",
    "else<condition>:\n",
    "    statement\n",
    "    \n",
    "```\n",
    "- additionaly tag along and or in the if and elif statments"
   ]
  },
  {
   "cell_type": "markdown",
   "metadata": {},
   "source": [
    "# For \n",
    "\n",
    "- Imagine putting your hand in the jar, looking and feeling for your favriote candy\n",
    "- You took one out, not it\n",
    "- you do it again, not it\n",
    "- you do it again again and again, until you get to your candy\n",
    "\n",
    "#### You behvior here is replicated in python for loop. \n",
    "\n",
    "```\n",
    "for <var> in <iterable>:\n",
    "    <statement(s)>\n",
    "```\n",
    "\n",
    "iterable can be other container such as list, dictionary, set, tuple, string.\n",
    "\n",
    "statement can be if statement or anything else\n",
    "\n",
    "Rule of thumb: an object [block of information] is a container when it can be asked whether it contains a certain elemen\n",
    "https://docs.python.org/3/tutorial/classes.html#classes"
   ]
  },
  {
   "cell_type": "code",
   "execution_count": 49,
   "metadata": {},
   "outputs": [
    {
     "name": "stdout",
     "output_type": "stream",
     "text": [
      "Yum! Found my Fav Candy: M&Ms\n"
     ]
    }
   ],
   "source": [
    "#favC = Favriote Candy \n",
    "for favC in bigger_jar: # for loop looks for favC starting at index 0. \n",
    "    #THis is important, it doesnt care about 0. It cares about what is at the 0, a candy. \n",
    "    if favC == \"M&Ms\": #you candition to stop puting your hand in the candy jar is getting your faviote candy - \"M&Ms\"\n",
    "        print(\"Yum! Found my Fav Candy: {}\".format(favC))"
   ]
  },
  {
   "cell_type": "markdown",
   "metadata": {},
   "source": [
    "### Hey look up , we have both for and if togather! "
   ]
  },
  {
   "cell_type": "markdown",
   "metadata": {},
   "source": [
    "as you can see, with for loop we only have access to elements (candies) in the list (jar). We DO NOT HAVE access to position of the candy. \n",
    "\n",
    "to replace a candy without knowing its position we have use something called built in function that keeps track of the position(index) of the candy we want to replace. "
   ]
  },
  {
   "cell_type": "code",
   "execution_count": 56,
   "metadata": {},
   "outputs": [
    {
     "name": "stdout",
     "output_type": "stream",
     "text": [
      "At Index 0, we have DOTS\n",
      "At Index 1, we have Tootsie Roll\n",
      "At Index 2, we have Suckers\n",
      "At Index 3, we have Blue Tootsie\n",
      "At Index 4, we have Hershey\n",
      "At Index 5, we have M&Ms\n",
      "At Index 6, we have sinckers\n",
      "At Index 7, we have 1000 grand\n",
      "At Index 8, we have Mars\n",
      "At Index 9, we have cookie\n",
      "At Index 10, we have cup cakes\n",
      "At Index 11, we have sugar\n"
     ]
    }
   ],
   "source": [
    "for pos, candies in enumerate(bigger_jar):\n",
    "    print(\"At Index {}, we have {}\".format(pos, candies))"
   ]
  },
  {
   "cell_type": "markdown",
   "metadata": {},
   "source": [
    "## Now lets put all this togather"
   ]
  },
  {
   "cell_type": "code",
   "execution_count": 57,
   "metadata": {},
   "outputs": [],
   "source": [
    "# Our goal is replacing sugar with devil cake, as if we dont know position of the sugar\n",
    "\n",
    "for pos, candy in enumerate(bigger_jar):\n",
    "    if candy == 'sugar':\n",
    "        bigger_jar[pos] = 'devil cake'"
   ]
  },
  {
   "cell_type": "code",
   "execution_count": 58,
   "metadata": {},
   "outputs": [
    {
     "data": {
      "text/plain": [
       "['DOTS',\n",
       " 'Tootsie Roll',\n",
       " 'Suckers',\n",
       " 'Blue Tootsie',\n",
       " 'Hershey',\n",
       " 'M&Ms',\n",
       " 'sinckers',\n",
       " '1000 grand',\n",
       " 'Mars',\n",
       " 'cookie',\n",
       " 'cup cakes',\n",
       " 'devil cake']"
      ]
     },
     "execution_count": 58,
     "metadata": {},
     "output_type": "execute_result"
    }
   ],
   "source": [
    "bigger_jar"
   ]
  },
  {
   "cell_type": "markdown",
   "metadata": {},
   "source": [
    "### Summary: You learned\n",
    "- Creating a candy jar\n",
    "- Comnining candy jars \n",
    "- accessing the candies\n",
    "- finding the position of a candy in a jar\n",
    "- slicing (sub setting) a jar\n",
    "- adding a candy to a jar\n",
    "- adding multiple candies to the jar\n",
    "- How to find if your faviote candy is in the jar if you dont know what candies are in the jar\n",
    "- How to replace a candy if you know the position\n",
    "- how to replace a candy if you dont know the position.\n",
    "- you also learned how to create conditional statments and loops (keep doing the same thing unti you get the candy you want)"
   ]
  },
  {
   "cell_type": "code",
   "execution_count": 59,
   "metadata": {},
   "outputs": [],
   "source": [
    "# Before we go \n",
    "# Here is a candy jar that has all these candies. How to access it? \n",
    "x = [\n",
    "    'a',\n",
    "    'b',\n",
    "    {\n",
    "        'foo': 1,\n",
    "        'bar':\n",
    "        {\n",
    "            'x' : 10,\n",
    "            'y' : 20,\n",
    "            'z' : 30\n",
    "        },\n",
    "        'baz': 3\n",
    "    },\n",
    "    'c',\n",
    "    'd'\n",
    "]"
   ]
  },
  {
   "cell_type": "code",
   "execution_count": 60,
   "metadata": {},
   "outputs": [
    {
     "data": {
      "text/plain": [
       "30"
      ]
     },
     "execution_count": 60,
     "metadata": {},
     "output_type": "execute_result"
    }
   ],
   "source": [
    "# Access 30 from this list \n",
    "# Remember you access list with index (position), while dictionary with a key\n",
    "\n",
    "x[2]['bar']['z']\n"
   ]
  },
  {
   "cell_type": "code",
   "execution_count": null,
   "metadata": {},
   "outputs": [],
   "source": []
  }
 ],
 "metadata": {
  "kernelspec": {
   "display_name": "Python 3",
   "language": "python",
   "name": "python3"
  },
  "language_info": {
   "codemirror_mode": {
    "name": "ipython",
    "version": 3
   },
   "file_extension": ".py",
   "mimetype": "text/x-python",
   "name": "python",
   "nbconvert_exporter": "python",
   "pygments_lexer": "ipython3",
   "version": "3.7.3"
  }
 },
 "nbformat": 4,
 "nbformat_minor": 2
}
