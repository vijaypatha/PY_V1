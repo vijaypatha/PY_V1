{
 "cells": [
  {
   "cell_type": "markdown",
   "metadata": {},
   "source": [
    "# Comprehension \n",
    "\n",
    "You learned about candy jar in the previous lesson. What is you want to creat a candy shop, with lot of new candy jars,using the candy jar you already have! Not exact candies, may be add bit variety to our canides in easiest way possible.You need a candy comp(prehension)any  \n",
    "\n",
    "![Candy Shop](http://www.riskingthereef.org.au/wp-content/uploads/2017/04/candy-buffet.jpg)\n",
    "\n",
    "\n",
    "Comprehensions in Python provide us with a short and concise way to construct new sequences (candy jars) (such as lists, set, dictionary etc.) using sequences (candy jar) which have been already defined. Python supports the following 4 types of comprehensions:\n",
    "\n",
    "List Comprehensions (List comprehensions provide a concise way to create lists) \n",
    "Dictionary Comprehensions\n",
    "Set Comprehensions\n",
    "Generator Comprehensions\n",
    "\n",
    "\n",
    "Common applications are to make new lists where each element is the result of some operations applied to each member of another sequence or iterable, or to create a subsequence of those elements that satisfy a certain condition."
   ]
  },
  {
   "cell_type": "code",
   "execution_count": 4,
   "metadata": {},
   "outputs": [
    {
     "name": "stdout",
     "output_type": "stream",
     "text": [
      "[1, 4, 9, 16, 25]\n"
     ]
    }
   ],
   "source": [
    "numbers = [1,2,3,4,5]\n",
    "squares = []\n",
    "for i in numbers:\n",
    "    squares.append(i ** 2)\n",
    "print(squares)"
   ]
  },
  {
   "cell_type": "markdown",
   "metadata": {},
   "source": [
    "[new candy jar for candy in first_candy_jar if(conditions)\n",
    "\n",
    "output_list = [output_exp for var in input_list if (var satisfies this condition)]\n",
    "\n",
    "\n",
    "![Image of candy jar](https://cdn-images-1.medium.com/max/800/1*kBRijbVn8txs8b5VGPBTMg.png)\n",
    "\n",
    "![image](https://python-3-patterns-idioms-test.readthedocs.io/en/latest/_images/listComprehensions.gif)"
   ]
  },
  {
   "cell_type": "code",
   "execution_count": 3,
   "metadata": {},
   "outputs": [
    {
     "name": "stdout",
     "output_type": "stream",
     "text": [
      "[1, 4, 9, 16, 25]\n"
     ]
    }
   ],
   "source": [
    "numbers = [1, 2, 3, 4, 5]\n",
    "squares = [number**2 for number in numbers]\n",
    "print(squares)"
   ]
  },
  {
   "cell_type": "code",
   "execution_count": 8,
   "metadata": {},
   "outputs": [
    {
     "name": "stdout",
     "output_type": "stream",
     "text": [
      "[1, 9, 25]\n"
     ]
    }
   ],
   "source": [
    "numbers = [1, 2, 3, 4, 5]\n",
    "squares = [number**2 for number in numbers if number % 2 != 0]\n",
    "print(squares)"
   ]
  },
  {
   "cell_type": "code",
   "execution_count": 13,
   "metadata": {},
   "outputs": [
    {
     "name": "stdout",
     "output_type": "stream",
     "text": [
      "['h', 'u', 'm', 'a', 'n']\n"
     ]
    }
   ],
   "source": [
    "h_letter = 'human'\n",
    "test = [l for l in h_letter]\n",
    "print(test)"
   ]
  },
  {
   "cell_type": "code",
   "execution_count": 14,
   "metadata": {},
   "outputs": [
    {
     "name": "stdout",
     "output_type": "stream",
     "text": [
      "['h', 'u', 'm', 'a', 'n']\n"
     ]
    }
   ],
   "source": [
    "h_letter = 'human'\n",
    "[l for l in h_letter]\n",
    "print(test)"
   ]
  },
  {
   "cell_type": "markdown",
   "metadata": {},
   "source": [
    "### Additional Reference \n",
    "\n",
    "[f(x) for x in S if P(x)]\n",
    "\n",
    "\n",
    "This produces a list containing the values of the sequence S selected by the predicate P and mapped by the function f. The if-clause is optional, and multiple for-clauses may be present, each with their own optional if-clause, to represent nested loops (the latter feature is rarely used though, since it typically maps a multi-dimensional entity to a one-dimensional list).\n",
    "\n",
    "#### List comprehensions provide an alternative to using the built-in map() and filter() functions. \n",
    "\n",
    "map(f, S) is equivalent to [f(x) for x in S] \n",
    "\n",
    "filter(P, S) is equivalent to [x for x in S if P(x)]. \n",
    "\n",
    "One would think that list comprehensions have little to recommend themselves over the seemingly more compact map() and filter() notations. However, the picture changes if one looks at a more realistic example. Suppose we want to add 1 to the elements of a list, producing a new list. The list comprehension solution is [x+1 for x in S]. The solution using map() is map(lambda x: x+1, S). The part “lambda x: x+1” is Python’s notation for an anonymous function defined in-line."
   ]
  },
  {
   "cell_type": "code",
   "execution_count": 15,
   "metadata": {},
   "outputs": [
    {
     "data": {
      "text/plain": [
       "[2, 3, 4, 5]"
      ]
     },
     "execution_count": 15,
     "metadata": {},
     "output_type": "execute_result"
    }
   ],
   "source": [
    "a_list = [1,2,3,4]\n",
    "# add 1 to the all the elements of a_list\n",
    "[ i+1 for i in a_list]"
   ]
  },
  {
   "cell_type": "markdown",
   "metadata": {},
   "source": [
    "##### Just remember to candy company when you have to do create new candy jars using the candy jar you already have"
   ]
  },
  {
   "cell_type": "code",
   "execution_count": null,
   "metadata": {},
   "outputs": [],
   "source": []
  }
 ],
 "metadata": {
  "kernelspec": {
   "display_name": "Python 3",
   "language": "python",
   "name": "python3"
  },
  "language_info": {
   "codemirror_mode": {
    "name": "ipython",
    "version": 3
   },
   "file_extension": ".py",
   "mimetype": "text/x-python",
   "name": "python",
   "nbconvert_exporter": "python",
   "pygments_lexer": "ipython3",
   "version": "3.7.3"
  }
 },
 "nbformat": 4,
 "nbformat_minor": 2
}
